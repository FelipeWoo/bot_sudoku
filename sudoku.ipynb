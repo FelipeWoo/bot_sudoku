{
 "cells": [
  {
   "cell_type": "markdown",
   "metadata": {},
   "source": [
    "# Sudoku\n",
    "\n",
    "## Reglas:\n",
    "\n",
    "1. Validar la dimensión de la matriz; 9 x 9.\n",
    "2. Cada fila debe de tener los dígitos del 1 al 9 sin repetición.\n",
    "3. Cada columna debe de tener los dígitos del 1 al 9 sin repetición.\n",
    "4. Cada uno de los cuadros de 3 x 3 de la cuadricula debe de contener los dígitos del 1 al 9 sin repetición."
   ]
  },
  {
   "cell_type": "code",
   "execution_count": 112,
   "metadata": {},
   "outputs": [],
   "source": [
    "import numpy as np"
   ]
  },
  {
   "cell_type": "code",
   "execution_count": 113,
   "metadata": {},
   "outputs": [],
   "source": [
    "board = [[5,3,0,0,7,0,0,0,0],\n",
    "          [6,0,0,1,9,5,0,0,0],\n",
    "          [0,9,8,0,0,0,0,6,0],\n",
    "          [8,0,0,0,6,0,0,0,3],\n",
    "          [4,0,0,8,0,3,0,0,1],\n",
    "          [7,0,0,0,2,0,0,0,6],\n",
    "          [0,6,0,0,0,0,2,8,0],\n",
    "          [0,0,0,4,1,9,0,0,5],\n",
    "          [0,0,0,0,8,0,0,7,9]]"
   ]
  },
  {
   "cell_type": "code",
   "execution_count": 114,
   "metadata": {},
   "outputs": [
    {
     "name": "stdout",
     "output_type": "stream",
     "text": [
      "[[5 3 0 0 7 0 0 0 0]\n",
      " [6 0 0 1 9 5 0 0 0]\n",
      " [0 9 8 0 0 0 0 6 0]\n",
      " [8 0 0 0 6 0 0 0 3]\n",
      " [4 0 0 8 0 3 0 0 1]\n",
      " [7 0 0 0 2 0 0 0 6]\n",
      " [0 6 0 0 0 0 2 8 0]\n",
      " [0 0 0 4 1 9 0 0 5]\n",
      " [0 0 0 0 8 0 0 7 9]]\n"
     ]
    }
   ],
   "source": [
    "print (np.matrix(board))"
   ]
  },
  {
   "cell_type": "code",
   "execution_count": 115,
   "metadata": {},
   "outputs": [],
   "source": [
    "class SolveSudoku:\n",
    "    def __init__(self,board) -> None:\n",
    "        self.__board = board\n",
    "        \n",
    "    \n",
    "    def get_validation(self):\n",
    "        self.validate_dimension()\n",
    "        self.validate_rows()\n",
    "        self.validate_columns()\n",
    "        self.validate_squares()\n",
    "        \n",
    "\n",
    "    \n",
    "    def validate_dimension(self):\n",
    "        \"\"\"\n",
    "        Validar que la dimensión del tablero sea de 9 x 9.\n",
    "        \"\"\"\n",
    "        \n",
    "        assert len(self.__board) == 9, \"El tablero no es de 9 x 9\"\n",
    "        for row in self.__board:\n",
    "            assert len(row) == 9, \"El tablero no es de 9 x 9\"\n",
    "       \n",
    "\n",
    "    def validate_rows(self,board =\"new__board\"):\n",
    "        \"\"\"\n",
    "        Validar que no se repitan los números del 1 al 9 en ninguna fila.\n",
    "        \"\"\"\n",
    "        \n",
    "\n",
    "        if board == \"new__board\":\n",
    "            board = self.__board\n",
    "\n",
    "        for row in board:\n",
    "            for element in row:\n",
    "                if element != 0:\n",
    "                    assert row.count(element) == 1, \"El tablero tiene números repetidos.\"\n",
    "       \n",
    "\n",
    "    def validate_columns(self):\n",
    "        \"\"\"\n",
    "        Validar que no se repitan los números del 1 al 9 en ninguna columna.\n",
    "        \"\"\"\n",
    "        zipped_rows = zip(*self.__board)\n",
    "        transpose__board = [list(row) for row in zipped_rows]\n",
    "        self.validate_rows(transpose__board)\n",
    "\n",
    "    def validate_squares(self):\n",
    "        \"\"\"\n",
    "        Validar que no se repitan los números del 1 al 9 en ningún cuadro de 3 x 3.\n",
    "        \"\"\"\n",
    "        board_reordered = self.__new_matrix()\n",
    "        self.validate_rows(board_reordered)\n",
    "\n",
    "    def __new_matrix(self): \n",
    "        # Acomoda las listas de los cuadros en orden para armar una nueva matriz. \n",
    "        matrix = [\n",
    "            self.__square2row(self.__board,0,3,0,3),\n",
    "            self.__square2row(self.__board,3,6,0,3),\n",
    "            self.__square2row(self.__board,6,9,0,3),\n",
    "\n",
    "\n",
    "            self.__square2row(self.__board,0,3,3,6),\n",
    "            self.__square2row(self.__board,3,6,3,6),\n",
    "            self.__square2row(self.__board,6,9,3,6),\n",
    "\n",
    "            self.__square2row(self.__board,0,3,6,9),\n",
    "            self.__square2row(self.__board,3,6,6,9),\n",
    "            self.__square2row(self.__board,6,9,6,9),\n",
    "        ]\n",
    "        return matrix\n",
    "        \n",
    "\n",
    "    def __square2row(self,matrix,a,b,c,d):\n",
    "        # Extrae cada cuadro de la matriz.\n",
    "        sq = [row[a:b] for row in matrix][c:d]\n",
    "        square_reordered=list()\n",
    "        # Acomoda todos los elementos del cuadro en una lista.\n",
    "        for row in sq:\n",
    "            for element in row:\n",
    "                square_reordered.append(element)\n",
    "\n",
    "        return square_reordered  \n",
    "\n",
    "    def possible(self,y,x,n):\n",
    "        for i in range(0,9):\n",
    "            if self.__board[y][i]==n:\n",
    "                return False\n",
    "        for i in range(0,9):\n",
    "            if self.__board[i][x]==n:\n",
    "                return False\n",
    "        x0 = (x//3)*3\n",
    "        y0 = (y//3)*3\n",
    "\n",
    "        for i in range(0,3):\n",
    "            for j in range(0,3):\n",
    "                if self.__board[y0+i][x0+j]==n:\n",
    "                    return False\n",
    "        return True\n",
    "\n",
    "    def solve(self):\n",
    "        for y in range(0,9):\n",
    "            for x in range(0,9):\n",
    "                if self.__board[y][x]==0:\n",
    "                    for n in range(1,10):\n",
    "                        if self.possible(y,x,n):\n",
    "                            self.__board[y][x] = n\n",
    "                            self.solve()\n",
    "                            self.__board[y][x] = 0\n",
    "                    return\n",
    "        print(np.matrix(self.__board))\n",
    "        input(\"More?\")\n",
    "\n",
    "\n"
   ]
  },
  {
   "cell_type": "code",
   "execution_count": 116,
   "metadata": {},
   "outputs": [
    {
     "name": "stdout",
     "output_type": "stream",
     "text": [
      "[[5 3 4 6 7 8 9 1 2]\n",
      " [6 7 2 1 9 5 3 4 8]\n",
      " [1 9 8 3 4 2 5 6 7]\n",
      " [8 5 9 7 6 1 4 2 3]\n",
      " [4 2 6 8 5 3 7 9 1]\n",
      " [7 1 3 9 2 4 8 5 6]\n",
      " [9 6 1 5 3 7 2 8 4]\n",
      " [2 8 7 4 1 9 6 3 5]\n",
      " [3 4 5 2 8 6 1 7 9]]\n"
     ]
    }
   ],
   "source": [
    "sudoku = SolveSudoku(board)\n",
    "# sudoku.validate_dimension()\n",
    "# sudoku.validate_rows()\n",
    "# sudoku.validate_columns()\n",
    "# sudoku.validate_squares()\n",
    "sudoku.get_validation()\n",
    "sudoku.possible(4,4,5)\n",
    "sudoku.solve()"
   ]
  },
  {
   "cell_type": "code",
   "execution_count": 117,
   "metadata": {},
   "outputs": [],
   "source": [
    "board = [[5,3,0,0,7,0,0,0,0],\n",
    "          [6,0,0,1,9,5,0,0,0],\n",
    "          [0,9,8,0,0,0,0,6,0],\n",
    "          [8,0,0,0,6,0,0,0,3],\n",
    "          [4,0,0,8,0,3,0,0,1],\n",
    "          [7,0,0,0,2,0,0,0,6],\n",
    "          [0,6,0,0,0,0,2,8,0],\n",
    "          [0,0,0,4,1,9,0,0,5],\n",
    "          [0,0,0,0,8,0,0,0,0]]"
   ]
  },
  {
   "cell_type": "code",
   "execution_count": 118,
   "metadata": {},
   "outputs": [
    {
     "name": "stdout",
     "output_type": "stream",
     "text": [
      "[[5 3 4 6 7 8 1 9 2]\n",
      " [6 7 2 1 9 5 3 4 8]\n",
      " [1 9 8 3 4 2 5 6 7]\n",
      " [8 5 9 7 6 1 4 2 3]\n",
      " [4 2 6 8 5 3 9 7 1]\n",
      " [7 1 3 9 2 4 8 5 6]\n",
      " [9 6 1 5 3 7 2 8 4]\n",
      " [2 8 7 4 1 9 6 3 5]\n",
      " [3 4 5 2 8 6 7 1 9]]\n",
      "[[5 3 4 6 7 8 9 1 2]\n",
      " [6 7 2 1 9 5 3 4 8]\n",
      " [1 9 8 3 4 2 5 6 7]\n",
      " [8 5 9 7 6 1 4 2 3]\n",
      " [4 2 6 8 5 3 7 9 1]\n",
      " [7 1 3 9 2 4 8 5 6]\n",
      " [9 6 1 5 3 7 2 8 4]\n",
      " [2 8 7 4 1 9 6 3 5]\n",
      " [3 4 5 2 8 6 1 7 9]]\n"
     ]
    }
   ],
   "source": [
    "sudoku = SolveSudoku(board)\n",
    "sudoku.solve()"
   ]
  },
  {
   "cell_type": "code",
   "execution_count": null,
   "metadata": {},
   "outputs": [],
   "source": []
  },
  {
   "cell_type": "markdown",
   "metadata": {},
   "source": [
    "## Obtener Sudoku de la Web"
   ]
  },
  {
   "cell_type": "markdown",
   "metadata": {},
   "source": []
  },
  {
   "cell_type": "code",
   "execution_count": 119,
   "metadata": {},
   "outputs": [],
   "source": [
    "from selenium import webdriver\n",
    "from selenium.webdriver.chrome.options import Options\n",
    "from selenium.webdriver.chrome.service import Service\n",
    "from selenium.webdriver.common.by import By\n",
    "from webdriver_manager.chrome import ChromeDriverManager\n",
    "\n",
    "options = Options()\n",
    "options.add_argument(\"start-maximized\")\n",
    "\n"
   ]
  },
  {
   "cell_type": "code",
   "execution_count": 120,
   "metadata": {},
   "outputs": [],
   "source": [
    "def read_sudoku(difficulty=\"hard\"):\n",
    "\n",
    "    driver = webdriver.Chrome(service=Service(ChromeDriverManager().install()),options=options)\n",
    "   \n",
    "    url = \"https://www.nytimes.com/puzzles/sudoku/\" + difficulty\n",
    "    driver.get(url)\n",
    "    driver.implicitly_wait(0.5)\n",
    "\n",
    "\n",
    "    sudoku_dict = {} \n",
    "\n",
    "    grid = driver.find_elements(By.CLASS_NAME, 'su-board')\n",
    "    for e in grid:\n",
    "        elements = e.find_elements(By.TAG_NAME, 'div')\n",
    "        for element in elements:\n",
    "            cell = element.get_attribute(\"data-cell\")\n",
    "            value = element.get_attribute(\"aria-label\")\n",
    "            if cell is None or value is None:\n",
    "                continue\n",
    "            sudoku_dict[int(cell)] = 0 if value == 'empty' else int(value)\n",
    "\n",
    "    sudoku_list = []\n",
    "  \n",
    "    for i in range(0,81):\n",
    "        if i/9.0 == i//9.0:\n",
    "            sudoku_list.append([])\n",
    "\n",
    "        sudoku_list[i//9].append(sudoku_dict[i])\n",
    "\n",
    "    return(sudoku_list)\n"
   ]
  },
  {
   "cell_type": "code",
   "execution_count": 121,
   "metadata": {},
   "outputs": [
    {
     "name": "stderr",
     "output_type": "stream",
     "text": [
      "\n",
      "\n",
      "====== WebDriver manager ======\n",
      "Current google-chrome version is 99.0.4844\n",
      "Get LATEST chromedriver version for 99.0.4844 google-chrome\n",
      "Driver [/home/master/.wdm/drivers/chromedriver/linux64/99.0.4844.51/chromedriver] found in cache\n"
     ]
    },
    {
     "name": "stdout",
     "output_type": "stream",
     "text": [
      "[[0 4 0 0 0 0 3 0 0]\n",
      " [2 0 0 0 0 0 7 6 0]\n",
      " [8 0 9 5 6 0 1 0 0]\n",
      " [4 0 0 0 7 0 0 0 0]\n",
      " [0 0 0 3 0 0 0 1 0]\n",
      " [0 5 3 0 1 0 9 0 0]\n",
      " [0 0 0 7 2 0 0 8 0]\n",
      " [0 0 0 0 4 0 0 0 0]\n",
      " [0 7 0 8 0 3 0 0 0]]\n"
     ]
    }
   ],
   "source": [
    "s = read_sudoku()\n",
    "\n",
    "print (np.matrix(s))"
   ]
  },
  {
   "cell_type": "markdown",
   "metadata": {},
   "source": [
    "# Pyautogui para subir la respuesta del Sudoku"
   ]
  },
  {
   "cell_type": "markdown",
   "metadata": {},
   "source": []
  },
  {
   "cell_type": "markdown",
   "metadata": {},
   "source": []
  },
  {
   "cell_type": "code",
   "execution_count": 127,
   "metadata": {},
   "outputs": [],
   "source": [
    "import pyautogui as pg\n",
    "import time"
   ]
  },
  {
   "cell_type": "code",
   "execution_count": 137,
   "metadata": {},
   "outputs": [
    {
     "name": "stdout",
     "output_type": "stream",
     "text": [
      "['down', 'left', 'left', 'left', 'left', 'left', 'left', 'left', 'left', 'left']\n"
     ]
    }
   ],
   "source": [
    "new_line = ['down']+['left' for i in range(0,9)]\n",
    "print(l)"
   ]
  },
  {
   "cell_type": "code",
   "execution_count": 142,
   "metadata": {},
   "outputs": [],
   "source": [
    "m = [[5,3,0,0,7,0,0,0,0],\n",
    "          [6,0,0,1,9,5,0,0,0],\n",
    "          [0,9,8,0,0,0,0,6,0],\n",
    "          [8,0,0,0,6,0,0,0,3],\n",
    "          [4,0,0,8,0,3,0,0,1],\n",
    "          [7,0,0,0,2,0,0,0,6],\n",
    "          [0,6,0,0,0,0,2,8,0],\n",
    "          [0,0,0,4,1,9,0,0,5],\n",
    "          [0,0,0,0,8,0,0,0,0]]"
   ]
  },
  {
   "cell_type": "code",
   "execution_count": 146,
   "metadata": {},
   "outputs": [],
   "source": [
    "time.sleep(5)\n",
    "for i in range(0,9):\n",
    "    for j in range(0,9):\n",
    "        pg.typewrite(str(m[i][j]),interval=0.1)\n",
    "        pg.typewrite(['right'],interval=0.1)\n",
    "\n",
    "    if i != 8 : pg.typewrite(new_line,interval=0.1)"
   ]
  },
  {
   "cell_type": "code",
   "execution_count": null,
   "metadata": {},
   "outputs": [],
   "source": [
    "\n"
   ]
  }
 ],
 "metadata": {
  "interpreter": {
   "hash": "c464d05c889dc11b63b44c0f7b54f380b3c5cd10a5e315394aa9d72421844f78"
  },
  "kernelspec": {
   "display_name": "Python 3.8.10 ('sudoku': venv)",
   "language": "python",
   "name": "python3"
  },
  "language_info": {
   "codemirror_mode": {
    "name": "ipython",
    "version": 3
   },
   "file_extension": ".py",
   "mimetype": "text/x-python",
   "name": "python",
   "nbconvert_exporter": "python",
   "pygments_lexer": "ipython3",
   "version": "3.8.10"
  },
  "orig_nbformat": 4
 },
 "nbformat": 4,
 "nbformat_minor": 2
}
