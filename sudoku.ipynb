{
 "cells": [
  {
   "cell_type": "markdown",
   "metadata": {},
   "source": [
    "# Teoría Útil"
   ]
  },
  {
   "cell_type": "markdown",
   "metadata": {},
   "source": [
    "Desarrollo de conceptos importantes a través de ejemplos con código."
   ]
  },
  {
   "cell_type": "markdown",
   "metadata": {},
   "source": [
    "## Matriz"
   ]
  },
  {
   "cell_type": "code",
   "execution_count": 2,
   "metadata": {},
   "outputs": [],
   "source": [
    "import numpy as np"
   ]
  },
  {
   "cell_type": "code",
   "execution_count": 3,
   "metadata": {},
   "outputs": [],
   "source": [
    "matriz = [[5,3,0,0,7,0,0,0,0],\n",
    "          [6,0,0,1,9,5,0,0,0],\n",
    "          [0,9,8,0,0,0,0,6,0],\n",
    "          [8,0,0,0,6,0,0,0,3],\n",
    "          [4,0,0,8,0,3,0,0,1],\n",
    "          [7,0,0,0,2,0,0,0,6],\n",
    "          [0,6,0,0,0,0,2,8,0],\n",
    "          [0,0,0,4,1,9,0,0,5],\n",
    "          [0,0,0,0,8,0,0,7,9]]"
   ]
  },
  {
   "cell_type": "markdown",
   "metadata": {},
   "source": [
    "Una lista de listas se puede representar como una matriz con numpy."
   ]
  },
  {
   "cell_type": "code",
   "execution_count": 4,
   "metadata": {},
   "outputs": [
    {
     "name": "stdout",
     "output_type": "stream",
     "text": [
      "[[5 3 0 0 7 0 0 0 0]\n",
      " [6 0 0 1 9 5 0 0 0]\n",
      " [0 9 8 0 0 0 0 6 0]\n",
      " [8 0 0 0 6 0 0 0 3]\n",
      " [4 0 0 8 0 3 0 0 1]\n",
      " [7 0 0 0 2 0 0 0 6]\n",
      " [0 6 0 0 0 0 2 8 0]\n",
      " [0 0 0 4 1 9 0 0 5]\n",
      " [0 0 0 0 8 0 0 7 9]]\n"
     ]
    }
   ],
   "source": [
    "print (np.matrix(matriz))"
   ]
  },
  {
   "cell_type": "markdown",
   "metadata": {},
   "source": [
    "Una matriz tiene filas y columnas y el orden de acceso para cada elemento es de izquierda a derecha y de arriba a abajo; empezando por la posición cero (0)."
   ]
  },
  {
   "cell_type": "code",
   "execution_count": 5,
   "metadata": {},
   "outputs": [
    {
     "name": "stdout",
     "output_type": "stream",
     "text": [
      "Coordenada (0,0), valor -> 5.\n",
      "Coordenada (0,1), valor -> 3.\n",
      "Coordenada (0,2), valor -> 0.\n",
      "Coordenada (0,3), valor -> 0.\n",
      "Coordenada (0,4), valor -> 7.\n",
      "Coordenada (0,5), valor -> 0.\n",
      "Coordenada (0,6), valor -> 0.\n",
      "Coordenada (0,7), valor -> 0.\n",
      "Coordenada (0,8), valor -> 0.\n",
      "Coordenada (1,0), valor -> 6.\n",
      "Coordenada (1,1), valor -> 0.\n",
      "Coordenada (1,2), valor -> 0.\n",
      "Coordenada (1,3), valor -> 1.\n",
      "Coordenada (1,4), valor -> 9.\n",
      "Coordenada (1,5), valor -> 5.\n",
      "Coordenada (1,6), valor -> 0.\n",
      "Coordenada (1,7), valor -> 0.\n",
      "Coordenada (1,8), valor -> 0.\n",
      "Coordenada (2,0), valor -> 0.\n",
      "Coordenada (2,1), valor -> 9.\n",
      "Coordenada (2,2), valor -> 8.\n",
      "Coordenada (2,3), valor -> 0.\n",
      "Coordenada (2,4), valor -> 0.\n",
      "Coordenada (2,5), valor -> 0.\n",
      "Coordenada (2,6), valor -> 0.\n",
      "Coordenada (2,7), valor -> 6.\n",
      "Coordenada (2,8), valor -> 0.\n",
      "Coordenada (3,0), valor -> 8.\n",
      "Coordenada (3,1), valor -> 0.\n",
      "Coordenada (3,2), valor -> 0.\n",
      "Coordenada (3,3), valor -> 0.\n",
      "Coordenada (3,4), valor -> 6.\n",
      "Coordenada (3,5), valor -> 0.\n",
      "Coordenada (3,6), valor -> 0.\n",
      "Coordenada (3,7), valor -> 0.\n",
      "Coordenada (3,8), valor -> 3.\n",
      "Coordenada (4,0), valor -> 4.\n",
      "Coordenada (4,1), valor -> 0.\n",
      "Coordenada (4,2), valor -> 0.\n",
      "Coordenada (4,3), valor -> 8.\n",
      "Coordenada (4,4), valor -> 0.\n",
      "Coordenada (4,5), valor -> 3.\n",
      "Coordenada (4,6), valor -> 0.\n",
      "Coordenada (4,7), valor -> 0.\n",
      "Coordenada (4,8), valor -> 1.\n",
      "Coordenada (5,0), valor -> 7.\n",
      "Coordenada (5,1), valor -> 0.\n",
      "Coordenada (5,2), valor -> 0.\n",
      "Coordenada (5,3), valor -> 0.\n",
      "Coordenada (5,4), valor -> 2.\n",
      "Coordenada (5,5), valor -> 0.\n",
      "Coordenada (5,6), valor -> 0.\n",
      "Coordenada (5,7), valor -> 0.\n",
      "Coordenada (5,8), valor -> 6.\n",
      "Coordenada (6,0), valor -> 0.\n",
      "Coordenada (6,1), valor -> 6.\n",
      "Coordenada (6,2), valor -> 0.\n",
      "Coordenada (6,3), valor -> 0.\n",
      "Coordenada (6,4), valor -> 0.\n",
      "Coordenada (6,5), valor -> 0.\n",
      "Coordenada (6,6), valor -> 2.\n",
      "Coordenada (6,7), valor -> 8.\n",
      "Coordenada (6,8), valor -> 0.\n",
      "Coordenada (7,0), valor -> 0.\n",
      "Coordenada (7,1), valor -> 0.\n",
      "Coordenada (7,2), valor -> 0.\n",
      "Coordenada (7,3), valor -> 4.\n",
      "Coordenada (7,4), valor -> 1.\n",
      "Coordenada (7,5), valor -> 9.\n",
      "Coordenada (7,6), valor -> 0.\n",
      "Coordenada (7,7), valor -> 0.\n",
      "Coordenada (7,8), valor -> 5.\n",
      "Coordenada (8,0), valor -> 0.\n",
      "Coordenada (8,1), valor -> 0.\n",
      "Coordenada (8,2), valor -> 0.\n",
      "Coordenada (8,3), valor -> 0.\n",
      "Coordenada (8,4), valor -> 8.\n",
      "Coordenada (8,5), valor -> 0.\n",
      "Coordenada (8,6), valor -> 0.\n",
      "Coordenada (8,7), valor -> 7.\n",
      "Coordenada (8,8), valor -> 9.\n"
     ]
    }
   ],
   "source": [
    "for i in range(0,9):\n",
    "    for j in range(0,9):\n",
    "        print(f'Coordenada ({i},{j}), valor -> {matriz[i][j]}.')"
   ]
  },
  {
   "cell_type": "markdown",
   "metadata": {},
   "source": [
    "## Recursividad"
   ]
  },
  {
   "cell_type": "markdown",
   "metadata": {},
   "source": [
    "La función se llama a sí misma al final de cada ciclo y para evitar que tienda al infinito hay una condición de salida."
   ]
  },
  {
   "cell_type": "code",
   "execution_count": 6,
   "metadata": {},
   "outputs": [],
   "source": [
    "def conteo_regresivo(inicio):\n",
    "    # Condición de salida\n",
    "    if inicio <= 0:\n",
    "        return \n",
    "    else:\n",
    "        print(inicio)\n",
    "        # Llamado hacia la misma función.\n",
    "        return conteo_regresivo(inicio-1)\n"
   ]
  },
  {
   "cell_type": "code",
   "execution_count": 7,
   "metadata": {},
   "outputs": [
    {
     "name": "stdout",
     "output_type": "stream",
     "text": [
      "5\n",
      "4\n",
      "3\n",
      "2\n",
      "1\n"
     ]
    }
   ],
   "source": [
    "conteo_regresivo(5)"
   ]
  },
  {
   "cell_type": "markdown",
   "metadata": {},
   "source": [
    "## Backtracking o Retroceso"
   ]
  },
  {
   "cell_type": "markdown",
   "metadata": {},
   "source": [
    "Buscar todas las combinaciones solución para los elementos marcados con cero (0)."
   ]
  },
  {
   "cell_type": "code",
   "execution_count": 6,
   "metadata": {},
   "outputs": [
    {
     "name": "stdout",
     "output_type": "stream",
     "text": [
      "[3, 1, 2, 4, 5, 6]\n",
      "[3, 1, 2, 6, 5, 4]\n",
      "[4, 1, 2, 3, 5, 6]\n",
      "[4, 1, 2, 6, 5, 3]\n",
      "[6, 1, 2, 3, 5, 4]\n",
      "[6, 1, 2, 4, 5, 3]\n"
     ]
    }
   ],
   "source": [
    "x = [0,1,2,0,5,0]\n",
    "\n",
    "def posible(n,i):\n",
    "    if i in n:\n",
    "        return False\n",
    "    return True\n",
    "\n",
    "def funcion_recursiva(): \n",
    "    global x\n",
    "    for e in range(0,6):\n",
    "        if x[e]==0:\n",
    "            for i in range(1,7):\n",
    "                if posible(x,i):\n",
    "                    x[e]=i\n",
    "                    funcion_recursiva()\n",
    "                    x[e]=0\n",
    "            # Cuando termina la lista regresa a la operación anterior, funcion_recursiva() y \n",
    "            # ejecuta la linea de asignación a cero\n",
    "            return\n",
    "    print(x)\n",
    "    input(\"more\")\n",
    "funcion_recursiva()\n",
    "\n"
   ]
  },
  {
   "cell_type": "code",
   "execution_count": null,
   "metadata": {},
   "outputs": [],
   "source": []
  }
 ],
 "metadata": {
  "interpreter": {
   "hash": "c464d05c889dc11b63b44c0f7b54f380b3c5cd10a5e315394aa9d72421844f78"
  },
  "kernelspec": {
   "display_name": "Python 3.8.10 ('sudoku': venv)",
   "language": "python",
   "name": "python3"
  },
  "language_info": {
   "codemirror_mode": {
    "name": "ipython",
    "version": 3
   },
   "file_extension": ".py",
   "mimetype": "text/x-python",
   "name": "python",
   "nbconvert_exporter": "python",
   "pygments_lexer": "ipython3",
   "version": "3.8.10"
  },
  "orig_nbformat": 4
 },
 "nbformat": 4,
 "nbformat_minor": 2
}
